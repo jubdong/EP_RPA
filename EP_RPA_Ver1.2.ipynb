{
 "cells": [
  {
   "cell_type": "markdown",
   "metadata": {},
   "source": [
    "#### 업데이트 내용\n",
    "22.06.15 Ver1.2\n",
    "- STS2냉연 Asset number 오기입. 수정 완료\n",
    "\n",
    "22.06.10 Ver1.1\n",
    "- S코드 입력 시 오류 발생. sleep(0.1) 적용\n",
    "\n",
    "22.06.09 Ver1.0\n",
    "- prompt창에 값을 입력하기 위해 다른 window로 전환 시 pyautogui 함수 실행 시 발생하는 에러 fix\n",
    "  \n",
    "\n",
    "  <추가내용>\n",
    "  \n",
    "  win = pg.getWindowsWithTitle('EP(Enterprise Portal)')[0] \n",
    "  \n",
    "  win.activate()"
   ]
  },
  {
   "cell_type": "markdown",
   "metadata": {},
   "source": [
    "#### EP Login 및 Library 호출"
   ]
  },
  {
   "cell_type": "code",
   "execution_count": null,
   "metadata": {},
   "outputs": [],
   "source": [
    "#Library 호출\n",
    "import os\n",
    "import pyautogui as pg\n",
    "import numpy as np\n",
    "import cv2\n",
    "import sys\n",
    "from selenium import webdriver\n",
    "import datetime\n",
    "import pygetwindow as gw\n",
    "import clipboard as cb\n",
    "\n",
    "# EP 계정 정보 입력\n",
    "my_id = pg.prompt(text='EP계정 아이디를 입력하세요')\n",
    "my_pw = pg.password(text='EP계정 비밀번호를 입력하세요')\n",
    "\n",
    "# EP 열기\n",
    "driver = webdriver.Ie('C:/coding/IEDriverServer') \n",
    "driver.get('http://swp.posco.net')\n",
    "driver.maximize_window() # 창 최대화\n",
    "\n",
    "driver.implicitly_wait(10) # driver.get 하는 시간을 최대 10초를 주고 10초 내에 더 빨리 진행 되면 그 뒤의 문장을 진행하여라\n",
    "\n",
    "#아이디 Xpath\n",
    "# //*[@id=\"username\"]\n",
    "# 비밀번호 Xpath\n",
    "# //*[@id=\"password\"]\n",
    "# 로그인 Xpath\n",
    "# //*[@id=\"loginsubmit\"]\n",
    "\n",
    "driver.find_element_by_xpath('//*[@id=\"username\"]').send_keys(my_id)\n",
    "driver.find_element_by_xpath('//*[@id=\"password\"]').send_keys(my_pw)\n",
    "driver.find_element_by_xpath('//*[@id=\"loginsubmit\"]').click()\n",
    "pg.sleep(2)\n",
    "\n",
    "try:\n",
    "    alert = driver.switch_to.alert\n",
    "    alert.accept()\n",
    "except:\n",
    "    print(\"기존 경고창 없음\")"
   ]
  },
  {
   "cell_type": "markdown",
   "metadata": {},
   "source": [
    "#### 일상작업 워크오더 생성"
   ]
  },
  {
   "cell_type": "markdown",
   "metadata": {},
   "source": [
    "#### 자재구매 워크오더 생성"
   ]
  },
  {
   "cell_type": "markdown",
   "metadata": {},
   "source": [
    "#### 자재불출 워크오더 생성"
   ]
  }
 ],
 "metadata": {
  "interpreter": {
   "hash": "f83d677db8bd35d2fb0873f2db9b473d98cd1a0194512a81b941b3e6839d6f79"
  },
  "kernelspec": {
   "display_name": "Python 3.9.10 64-bit",
   "language": "python",
   "name": "python3"
  },
  "language_info": {
   "codemirror_mode": {
    "name": "ipython",
    "version": 3
   },
   "file_extension": ".py",
   "mimetype": "text/x-python",
   "name": "python",
   "nbconvert_exporter": "python",
   "pygments_lexer": "ipython3",
   "version": "3.9.10"
  },
  "orig_nbformat": 4
 },
 "nbformat": 4,
 "nbformat_minor": 2
}
